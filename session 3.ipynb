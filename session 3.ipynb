{
 "cells": [
  {
   "cell_type": "code",
   "execution_count": 1,
   "id": "0573774d-ec06-40bf-8d88-7a371e232f28",
   "metadata": {},
   "outputs": [],
   "source": [
    "s  =   'Hello Python'"
   ]
  },
  {
   "cell_type": "code",
   "execution_count": 2,
   "id": "a6cc9c28-42a3-4c63-8356-6eb4a9126b84",
   "metadata": {},
   "outputs": [
    {
     "data": {
      "text/plain": [
       "'Hello Python'"
      ]
     },
     "execution_count": 2,
     "metadata": {},
     "output_type": "execute_result"
    }
   ],
   "source": [
    "s"
   ]
  },
  {
   "cell_type": "code",
   "execution_count": 3,
   "id": "9a77d579-fa28-4f84-ba71-bf822f90562b",
   "metadata": {},
   "outputs": [
    {
     "data": {
      "text/plain": [
       "2"
      ]
     },
     "execution_count": 3,
     "metadata": {},
     "output_type": "execute_result"
    }
   ],
   "source": [
    "# count\n",
    "s.count('o')"
   ]
  },
  {
   "cell_type": "code",
   "execution_count": 4,
   "id": "42b3c394-dee4-4528-8b1b-c8a862ed7aef",
   "metadata": {},
   "outputs": [
    {
     "data": {
      "text/plain": [
       "0"
      ]
     },
     "execution_count": 4,
     "metadata": {},
     "output_type": "execute_result"
    }
   ],
   "source": [
    "s.count('p')"
   ]
  },
  {
   "cell_type": "code",
   "execution_count": 5,
   "id": "b0d6c57e-e4b7-42cc-8660-a858768e5da3",
   "metadata": {},
   "outputs": [
    {
     "data": {
      "text/plain": [
       "1"
      ]
     },
     "execution_count": 5,
     "metadata": {},
     "output_type": "execute_result"
    }
   ],
   "source": [
    "s.count('h')"
   ]
  },
  {
   "cell_type": "code",
   "execution_count": 7,
   "id": "83d82b85-649d-4da4-b388-35b3637e77b8",
   "metadata": {},
   "outputs": [
    {
     "data": {
      "text/plain": [
       "2"
      ]
     },
     "execution_count": 7,
     "metadata": {},
     "output_type": "execute_result"
    }
   ],
   "source": [
    "s.count('o')"
   ]
  },
  {
   "cell_type": "code",
   "execution_count": 10,
   "id": "2698051c-b1d2-4681-9e06-4a7d2c4fd605",
   "metadata": {},
   "outputs": [
    {
     "data": {
      "text/plain": [
       "'H'"
      ]
     },
     "execution_count": 10,
     "metadata": {},
     "output_type": "execute_result"
    }
   ],
   "source": [
    "#min\n",
    "d  =   'Hello'\n",
    "min(d)"
   ]
  },
  {
   "cell_type": "code",
   "execution_count": 11,
   "id": "4a157d65-1c59-4d22-8228-7c4dfbaddc41",
   "metadata": {},
   "outputs": [
    {
     "data": {
      "text/plain": [
       "65"
      ]
     },
     "execution_count": 11,
     "metadata": {},
     "output_type": "execute_result"
    }
   ],
   "source": [
    "ord('A')"
   ]
  },
  {
   "cell_type": "code",
   "execution_count": 13,
   "id": "75c1358e-2e7e-44bd-9895-1826d2fa943e",
   "metadata": {},
   "outputs": [
    {
     "data": {
      "text/plain": [
       "66"
      ]
     },
     "execution_count": 13,
     "metadata": {},
     "output_type": "execute_result"
    }
   ],
   "source": [
    "ord('B')"
   ]
  },
  {
   "cell_type": "code",
   "execution_count": 14,
   "id": "245e1edc-8d10-452e-b97c-30a8d4a3427f",
   "metadata": {},
   "outputs": [
    {
     "data": {
      "text/plain": [
       "90"
      ]
     },
     "execution_count": 14,
     "metadata": {},
     "output_type": "execute_result"
    }
   ],
   "source": [
    "ord('Z')"
   ]
  },
  {
   "cell_type": "code",
   "execution_count": 15,
   "id": "66e5f96f-3fa9-4435-a941-066d40c4cf52",
   "metadata": {},
   "outputs": [
    {
     "data": {
      "text/plain": [
       "97"
      ]
     },
     "execution_count": 15,
     "metadata": {},
     "output_type": "execute_result"
    }
   ],
   "source": [
    "ord('a')"
   ]
  },
  {
   "cell_type": "code",
   "execution_count": 16,
   "id": "5ee9a7c3-e438-483a-8e36-41dee77709ee",
   "metadata": {},
   "outputs": [
    {
     "data": {
      "text/plain": [
       "101"
      ]
     },
     "execution_count": 16,
     "metadata": {},
     "output_type": "execute_result"
    }
   ],
   "source": [
    "ord('e')"
   ]
  },
  {
   "cell_type": "code",
   "execution_count": 17,
   "id": "2aeeee3e-1a59-4dee-a90f-3d6297374666",
   "metadata": {},
   "outputs": [
    {
     "data": {
      "text/plain": [
       "72"
      ]
     },
     "execution_count": 17,
     "metadata": {},
     "output_type": "execute_result"
    }
   ],
   "source": [
    "ord('H')"
   ]
  },
  {
   "cell_type": "code",
   "execution_count": 18,
   "id": "288015df-f279-4de0-ac19-9fe19a230347",
   "metadata": {},
   "outputs": [
    {
     "data": {
      "text/plain": [
       "'e'"
      ]
     },
     "execution_count": 18,
     "metadata": {},
     "output_type": "execute_result"
    }
   ],
   "source": [
    "#min\n",
    "d  =   'hello'\n",
    "min(d)"
   ]
  },
  {
   "cell_type": "code",
   "execution_count": 19,
   "id": "eaca0718-d20e-4c02-828c-da8981c83208",
   "metadata": {},
   "outputs": [
    {
     "data": {
      "text/plain": [
       "'o'"
      ]
     },
     "execution_count": 19,
     "metadata": {},
     "output_type": "execute_result"
    }
   ],
   "source": [
    "max(d)"
   ]
  },
  {
   "cell_type": "code",
   "execution_count": 21,
   "id": "ac854b2c-afcc-4cfb-9765-716d1680682b",
   "metadata": {},
   "outputs": [
    {
     "ename": "TypeError",
     "evalue": "unsupported operand type(s) for +: 'int' and 'str'",
     "output_type": "error",
     "traceback": [
      "\u001b[1;31m---------------------------------------------------------------------------\u001b[0m",
      "\u001b[1;31mTypeError\u001b[0m                                 Traceback (most recent call last)",
      "Cell \u001b[1;32mIn[21], line 1\u001b[0m\n\u001b[1;32m----> 1\u001b[0m \u001b[38;5;28msum\u001b[39m(d)\n",
      "\u001b[1;31mTypeError\u001b[0m: unsupported operand type(s) for +: 'int' and 'str'"
     ]
    }
   ],
   "source": [
    "sum(d)"
   ]
  },
  {
   "cell_type": "code",
   "execution_count": 20,
   "id": "423625e1-9ccf-4421-9b54-2aed09cfc0e8",
   "metadata": {},
   "outputs": [
    {
     "data": {
      "text/plain": [
       "'a'"
      ]
     },
     "execution_count": 20,
     "metadata": {},
     "output_type": "execute_result"
    }
   ],
   "source": [
    "# to see  character\n",
    "chr(97)"
   ]
  },
  {
   "cell_type": "code",
   "execution_count": 22,
   "id": "712e3ce9-a3d4-44a4-a9e7-64b7ab3f24cf",
   "metadata": {},
   "outputs": [
    {
     "data": {
      "text/plain": [
       "'hello'"
      ]
     },
     "execution_count": 22,
     "metadata": {},
     "output_type": "execute_result"
    }
   ],
   "source": [
    "# reversed  the string\n",
    "d"
   ]
  },
  {
   "cell_type": "code",
   "execution_count": 23,
   "id": "464cbfd2-dda7-473a-bab9-400bf8017ec2",
   "metadata": {},
   "outputs": [
    {
     "data": {
      "text/plain": [
       "'olleh'"
      ]
     },
     "execution_count": 23,
     "metadata": {},
     "output_type": "execute_result"
    }
   ],
   "source": [
    "d[::-1]"
   ]
  },
  {
   "cell_type": "code",
   "execution_count": 24,
   "id": "6f05de83-8c52-45e5-9b70-311b12fc963b",
   "metadata": {},
   "outputs": [
    {
     "data": {
      "text/plain": [
       "<reversed at 0x1b63acc9ed0>"
      ]
     },
     "execution_count": 24,
     "metadata": {},
     "output_type": "execute_result"
    }
   ],
   "source": [
    "reversed(d)    # generate"
   ]
  },
  {
   "cell_type": "code",
   "execution_count": 25,
   "id": "d6a42385-345d-42c0-9217-715b7c75d48f",
   "metadata": {},
   "outputs": [
    {
     "data": {
      "text/plain": [
       "'<reversed object at 0x000001B63AA50F10>'"
      ]
     },
     "execution_count": 25,
     "metadata": {},
     "output_type": "execute_result"
    }
   ],
   "source": [
    "str(reversed(d)  )   #  can not give data type"
   ]
  },
  {
   "cell_type": "code",
   "execution_count": 28,
   "id": "a6cf62d6-540b-4195-881e-8ae1f4ae1964",
   "metadata": {},
   "outputs": [
    {
     "data": {
      "text/plain": [
       "['o', 'l', 'l', 'e', 'h']"
      ]
     },
     "execution_count": 28,
     "metadata": {},
     "output_type": "execute_result"
    }
   ],
   "source": [
    "# data structure\n",
    "a  = list(reversed(d) )\n",
    "a"
   ]
  },
  {
   "cell_type": "code",
   "execution_count": 35,
   "id": "bc09f7c2-7e3f-4a57-bc66-191e07fbbb71",
   "metadata": {},
   "outputs": [
    {
     "data": {
      "text/plain": [
       "'olleh'"
      ]
     },
     "execution_count": 35,
     "metadata": {},
     "output_type": "execute_result"
    }
   ],
   "source": [
    "# join \n",
    "# to convert list  in string\n",
    "''.join(a)"
   ]
  },
  {
   "cell_type": "code",
   "execution_count": 36,
   "id": "2ce912d3-240a-46e7-82e4-8cff4fe4e644",
   "metadata": {},
   "outputs": [
    {
     "data": {
      "text/plain": [
       "'hello'"
      ]
     },
     "execution_count": 36,
     "metadata": {},
     "output_type": "execute_result"
    }
   ],
   "source": [
    "# replace \n",
    "d"
   ]
  },
  {
   "cell_type": "code",
   "execution_count": 39,
   "id": "2fd4507f-5d9c-4ba4-803e-b63e879c219c",
   "metadata": {},
   "outputs": [],
   "source": [
    "h  = d.replace('h' , \"H\")"
   ]
  },
  {
   "cell_type": "code",
   "execution_count": 38,
   "id": "66d7c8bb-6916-4d7d-9033-852b2203268a",
   "metadata": {},
   "outputs": [
    {
     "data": {
      "text/plain": [
       "'hello'"
      ]
     },
     "execution_count": 38,
     "metadata": {},
     "output_type": "execute_result"
    }
   ],
   "source": [
    "d    #  string  is  immutable  "
   ]
  },
  {
   "cell_type": "code",
   "execution_count": 42,
   "id": "b5ef24eb-2478-4215-9eca-e914eda60395",
   "metadata": {},
   "outputs": [
    {
     "data": {
      "text/plain": [
       "'heLLo'"
      ]
     },
     "execution_count": 42,
     "metadata": {},
     "output_type": "execute_result"
    }
   ],
   "source": [
    "d.replace('l' , \"L\")"
   ]
  },
  {
   "cell_type": "code",
   "execution_count": 40,
   "id": "4da13cf8-b14e-4311-aa20-4d345ee67ae2",
   "metadata": {},
   "outputs": [
    {
     "data": {
      "text/plain": [
       "'Hello'"
      ]
     },
     "execution_count": 40,
     "metadata": {},
     "output_type": "execute_result"
    }
   ],
   "source": []
  },
  {
   "cell_type": "markdown",
   "id": "95c08531-38b9-48ae-a1a7-d7c191c80ef0",
   "metadata": {},
   "source": [
    "# membership  operators\n",
    "-  in \n",
    "- not  in"
   ]
  },
  {
   "cell_type": "code",
   "execution_count": 41,
   "id": "5e247995-a93d-42cc-9de4-11cf8d32d825",
   "metadata": {},
   "outputs": [
    {
     "data": {
      "text/plain": [
       "'hello'"
      ]
     },
     "execution_count": 41,
     "metadata": {},
     "output_type": "execute_result"
    }
   ],
   "source": [
    "d"
   ]
  },
  {
   "cell_type": "code",
   "execution_count": 43,
   "id": "ad68016c-f9c0-4736-91f1-bfc9eed8d614",
   "metadata": {},
   "outputs": [
    {
     "data": {
      "text/plain": [
       "False"
      ]
     },
     "execution_count": 43,
     "metadata": {},
     "output_type": "execute_result"
    }
   ],
   "source": [
    "'d' in  d "
   ]
  },
  {
   "cell_type": "code",
   "execution_count": 44,
   "id": "4ccea9ee-cfd8-453e-840c-b00fb001a5d0",
   "metadata": {},
   "outputs": [
    {
     "data": {
      "text/plain": [
       "False"
      ]
     },
     "execution_count": 44,
     "metadata": {},
     "output_type": "execute_result"
    }
   ],
   "source": [
    "'l' not in d"
   ]
  },
  {
   "cell_type": "code",
   "execution_count": 46,
   "id": "1b441c5e-b8e3-43ce-8f7d-678527972fe1",
   "metadata": {},
   "outputs": [
    {
     "data": {
      "text/plain": [
       "True"
      ]
     },
     "execution_count": 46,
     "metadata": {},
     "output_type": "execute_result"
    }
   ],
   "source": [
    "'H' not in d "
   ]
  },
  {
   "cell_type": "code",
   "execution_count": 54,
   "id": "f53a5e15-9bd9-4166-aa2a-bc2ef874ed82",
   "metadata": {},
   "outputs": [
    {
     "data": {
      "text/plain": [
       "'data    science'"
      ]
     },
     "execution_count": 54,
     "metadata": {},
     "output_type": "execute_result"
    }
   ],
   "source": [
    "# string concatenation  =  joining two strings\n",
    "s1  = 'data'\n",
    "s2  = 'science'\n",
    "s1  +  \"    \" +   s2"
   ]
  },
  {
   "cell_type": "markdown",
   "id": "0846bb01-a2d0-4c79-8bcf-0039c4a1975f",
   "metadata": {},
   "source": [
    "# type casting -  convert  one type  of data into another type\n",
    "-  auto - convert by itself\n",
    "-  forced -  forcefully converting -  externally"
   ]
  },
  {
   "cell_type": "code",
   "execution_count": 47,
   "id": "9f34ff8c-37ba-4936-9cb1-6d9415c82d48",
   "metadata": {},
   "outputs": [
    {
     "data": {
      "text/plain": [
       "17"
      ]
     },
     "execution_count": 47,
     "metadata": {},
     "output_type": "execute_result"
    }
   ],
   "source": [
    "12  +  4 + True"
   ]
  },
  {
   "cell_type": "code",
   "execution_count": 48,
   "id": "973b4edb-55a6-4ddc-8849-c1b20c920baf",
   "metadata": {},
   "outputs": [
    {
     "data": {
      "text/plain": [
       "bool"
      ]
     },
     "execution_count": 48,
     "metadata": {},
     "output_type": "execute_result"
    }
   ],
   "source": [
    "type(True)"
   ]
  },
  {
   "cell_type": "code",
   "execution_count": 49,
   "id": "0e4ae9e1-22b5-456a-af71-6d28ef382bf1",
   "metadata": {},
   "outputs": [
    {
     "data": {
      "text/plain": [
       "1"
      ]
     },
     "execution_count": 49,
     "metadata": {},
     "output_type": "execute_result"
    }
   ],
   "source": [
    "int(True)"
   ]
  },
  {
   "cell_type": "code",
   "execution_count": 50,
   "id": "57560820-2ed2-4900-a3af-79be03a65f71",
   "metadata": {},
   "outputs": [
    {
     "data": {
      "text/plain": [
       "24"
      ]
     },
     "execution_count": 50,
     "metadata": {},
     "output_type": "execute_result"
    }
   ],
   "source": [
    "True +False +  23"
   ]
  },
  {
   "cell_type": "code",
   "execution_count": 51,
   "id": "599b3f36-b8b3-4e9f-812f-1e96b36cff95",
   "metadata": {},
   "outputs": [
    {
     "data": {
      "text/plain": [
       "0"
      ]
     },
     "execution_count": 51,
     "metadata": {},
     "output_type": "execute_result"
    }
   ],
   "source": [
    "int(False)"
   ]
  },
  {
   "cell_type": "code",
   "execution_count": 55,
   "id": "e4595f30-8fc9-4afc-b232-18f491991004",
   "metadata": {},
   "outputs": [
    {
     "ename": "TypeError",
     "evalue": "can only concatenate str (not \"int\") to str",
     "output_type": "error",
     "traceback": [
      "\u001b[1;31m---------------------------------------------------------------------------\u001b[0m",
      "\u001b[1;31mTypeError\u001b[0m                                 Traceback (most recent call last)",
      "Cell \u001b[1;32mIn[55], line 1\u001b[0m\n\u001b[1;32m----> 1\u001b[0m \u001b[38;5;124m'\u001b[39m\u001b[38;5;124mdata\u001b[39m\u001b[38;5;124m'\u001b[39m \u001b[38;5;241m+\u001b[39m \u001b[38;5;241m12\u001b[39m\n",
      "\u001b[1;31mTypeError\u001b[0m: can only concatenate str (not \"int\") to str"
     ]
    }
   ],
   "source": [
    "'data' + 12  # addition  of  string and  number"
   ]
  },
  {
   "cell_type": "code",
   "execution_count": 56,
   "id": "9396a7b3-693b-48a3-b939-6bc93c892fd0",
   "metadata": {},
   "outputs": [
    {
     "ename": "TypeError",
     "evalue": "can only concatenate str (not \"int\") to str",
     "output_type": "error",
     "traceback": [
      "\u001b[1;31m---------------------------------------------------------------------------\u001b[0m",
      "\u001b[1;31mTypeError\u001b[0m                                 Traceback (most recent call last)",
      "Cell \u001b[1;32mIn[56], line 1\u001b[0m\n\u001b[1;32m----> 1\u001b[0m \u001b[38;5;124m'\u001b[39m\u001b[38;5;124m12\u001b[39m\u001b[38;5;124m'\u001b[39m  \u001b[38;5;241m+\u001b[39m  \u001b[38;5;241m132\u001b[39m\n",
      "\u001b[1;31mTypeError\u001b[0m: can only concatenate str (not \"int\") to str"
     ]
    }
   ],
   "source": [
    "'12'  +  132"
   ]
  },
  {
   "cell_type": "code",
   "execution_count": 57,
   "id": "e5c914ac-4434-4b63-a94b-5c8653adfe21",
   "metadata": {},
   "outputs": [
    {
     "data": {
      "text/plain": [
       "str"
      ]
     },
     "execution_count": 57,
     "metadata": {},
     "output_type": "execute_result"
    }
   ],
   "source": [
    "type('11')"
   ]
  },
  {
   "cell_type": "code",
   "execution_count": 58,
   "id": "7a2d33bf-91b9-40b4-ad27-ff8bdcdd3e26",
   "metadata": {},
   "outputs": [
    {
     "data": {
      "text/plain": [
       "'1212'"
      ]
     },
     "execution_count": 58,
     "metadata": {},
     "output_type": "execute_result"
    }
   ],
   "source": [
    "'12' + '12'"
   ]
  },
  {
   "cell_type": "code",
   "execution_count": 59,
   "id": "cf412584-ad12-4984-a341-39ba9a3b08e2",
   "metadata": {},
   "outputs": [
    {
     "data": {
      "text/plain": [
       "24"
      ]
     },
     "execution_count": 59,
     "metadata": {},
     "output_type": "execute_result"
    }
   ],
   "source": [
    "12+12"
   ]
  },
  {
   "cell_type": "code",
   "execution_count": 62,
   "id": "52b815d5-55de-4613-ad8a-45e1b9273541",
   "metadata": {},
   "outputs": [],
   "source": [
    "a  = '123'\n",
    "b = int(a)"
   ]
  },
  {
   "cell_type": "code",
   "execution_count": 64,
   "id": "84747816-5c30-43b8-a18a-a885764e460d",
   "metadata": {},
   "outputs": [
    {
     "data": {
      "text/plain": [
       "int"
      ]
     },
     "execution_count": 64,
     "metadata": {},
     "output_type": "execute_result"
    }
   ],
   "source": [
    "type(b)"
   ]
  },
  {
   "cell_type": "code",
   "execution_count": 65,
   "id": "9040d542-fff2-4943-8684-cab715fc3642",
   "metadata": {},
   "outputs": [
    {
     "ename": "ValueError",
     "evalue": "invalid literal for int() with base 10: 'data'",
     "output_type": "error",
     "traceback": [
      "\u001b[1;31m---------------------------------------------------------------------------\u001b[0m",
      "\u001b[1;31mValueError\u001b[0m                                Traceback (most recent call last)",
      "Cell \u001b[1;32mIn[65], line 2\u001b[0m\n\u001b[0;32m      1\u001b[0m s  \u001b[38;5;241m=\u001b[39m \u001b[38;5;124m'\u001b[39m\u001b[38;5;124mdata\u001b[39m\u001b[38;5;124m'\u001b[39m\n\u001b[1;32m----> 2\u001b[0m \u001b[38;5;28mint\u001b[39m(s)\n",
      "\u001b[1;31mValueError\u001b[0m: invalid literal for int() with base 10: 'data'"
     ]
    }
   ],
   "source": [
    "s  = 'data'\n",
    "int(s)"
   ]
  },
  {
   "cell_type": "code",
   "execution_count": 66,
   "id": "d2ecc599-7546-49df-9316-1f83ff85bb11",
   "metadata": {},
   "outputs": [
    {
     "data": {
      "text/plain": [
       "'123874653759876'"
      ]
     },
     "execution_count": 66,
     "metadata": {},
     "output_type": "execute_result"
    }
   ],
   "source": [
    "e  =123874653759876\n",
    "str(e)"
   ]
  },
  {
   "cell_type": "markdown",
   "id": "ca11b24b-9006-46ef-8c24-6df07d7da489",
   "metadata": {},
   "source": [
    "#  print  statements\n",
    "-  comma\n",
    "- formated string  f''\n",
    "- .format"
   ]
  },
  {
   "cell_type": "code",
   "execution_count": 67,
   "id": "f4c00605-d5f9-4fad-8b6c-323e401a4c9b",
   "metadata": {},
   "outputs": [],
   "source": [
    "# take  input  from user"
   ]
  },
  {
   "cell_type": "code",
   "execution_count": 125,
   "id": "2a452434-2c59-462f-ae14-bff60edb93f6",
   "metadata": {},
   "outputs": [
    {
     "name": "stdin",
     "output_type": "stream",
     "text": [
      "enter name  here swara\n",
      "enter age  here 3.3\n"
     ]
    },
    {
     "ename": "ValueError",
     "evalue": "invalid literal for int() with base 10: '3.3'",
     "output_type": "error",
     "traceback": [
      "\u001b[1;31m---------------------------------------------------------------------------\u001b[0m",
      "\u001b[1;31mValueError\u001b[0m                                Traceback (most recent call last)",
      "Cell \u001b[1;32mIn[125], line 2\u001b[0m\n\u001b[0;32m      1\u001b[0m name  \u001b[38;5;241m=\u001b[39m   \u001b[38;5;28minput\u001b[39m(\u001b[38;5;124m'\u001b[39m\u001b[38;5;124menter name  here\u001b[39m\u001b[38;5;124m'\u001b[39m)\u001b[38;5;66;03m# by default string\u001b[39;00m\n\u001b[1;32m----> 2\u001b[0m age  \u001b[38;5;241m=\u001b[39m\u001b[38;5;28mint\u001b[39m(\u001b[38;5;28minput\u001b[39m(\u001b[38;5;124m'\u001b[39m\u001b[38;5;124menter age  here\u001b[39m\u001b[38;5;124m'\u001b[39m))\n\u001b[0;32m      3\u001b[0m \u001b[38;5;28mprint\u001b[39m(\u001b[38;5;28mtype\u001b[39m(name) ,  \u001b[38;5;28mtype\u001b[39m(age))\n",
      "\u001b[1;31mValueError\u001b[0m: invalid literal for int() with base 10: '3.3'"
     ]
    }
   ],
   "source": [
    "name  =   input('enter name  here')# by default string\n",
    "age  =int(input('enter age  here'))\n",
    "print(type(name) ,  type(age))"
   ]
  },
  {
   "cell_type": "code",
   "execution_count": 123,
   "id": "c3f0cb31-d506-4070-bc95-8ec3952b019a",
   "metadata": {},
   "outputs": [
    {
     "name": "stdout",
     "output_type": "stream",
     "text": [
      "Name of candidate is swara and age  is  6.0\n"
     ]
    }
   ],
   "source": [
    "print('Name of candidate is' ,  name  , 'and age  is ' ,   age)"
   ]
  },
  {
   "cell_type": "code",
   "execution_count": 112,
   "id": "6eaea8ae-2622-4ad1-9af4-c56414a4d620",
   "metadata": {},
   "outputs": [
    {
     "name": "stdout",
     "output_type": "stream",
     "text": [
      "name  of  person is swamini  and age  is  23\n"
     ]
    }
   ],
   "source": [
    "# formated  string\n",
    "print(f'name  of  person is {name}  and age  is  {age}')"
   ]
  },
  {
   "cell_type": "code",
   "execution_count": 113,
   "id": "7219146b-f5ae-4bc7-badd-5b056ab5cc42",
   "metadata": {},
   "outputs": [
    {
     "name": "stdout",
     "output_type": "stream",
     "text": [
      "name  of  person is swamini  and age  is  23\n"
     ]
    }
   ],
   "source": [
    "# .format\n",
    "print('name  of  person is {}  and age  is  {}'.format(name  , age))\n"
   ]
  },
  {
   "cell_type": "code",
   "execution_count": 114,
   "id": "075ad4df-c1c2-4e2e-93c2-75b8ad907bdf",
   "metadata": {},
   "outputs": [
    {
     "name": "stdout",
     "output_type": "stream",
     "text": [
      "name  of  person is 23  and age  is  swamini\n"
     ]
    }
   ],
   "source": [
    "print('name  of  person is {}  and age  is  {}'.format(age  ,name ))"
   ]
  },
  {
   "cell_type": "code",
   "execution_count": 115,
   "id": "323e57db-39dc-4c95-a215-219ea3d7a599",
   "metadata": {},
   "outputs": [
    {
     "ename": "NameError",
     "evalue": "name 'prajakta' is not defined",
     "output_type": "error",
     "traceback": [
      "\u001b[1;31m---------------------------------------------------------------------------\u001b[0m",
      "\u001b[1;31mNameError\u001b[0m                                 Traceback (most recent call last)",
      "Cell \u001b[1;32mIn[115], line 1\u001b[0m\n\u001b[1;32m----> 1\u001b[0m name :  prajakta\n\u001b[0;32m      2\u001b[0m age : \u001b[38;5;241m25\u001b[39m\n",
      "\u001b[1;31mNameError\u001b[0m: name 'prajakta' is not defined"
     ]
    }
   ],
   "source": [
    "name :  prajakta\n",
    "age : 25"
   ]
  },
  {
   "cell_type": "code",
   "execution_count": 116,
   "id": "7199f51c-ef1c-4dd5-8996-71f552cd8cbb",
   "metadata": {},
   "outputs": [
    {
     "name": "stdout",
     "output_type": "stream",
     "text": [
      "name :  swamini\n",
      "age :  23\n"
     ]
    }
   ],
   "source": [
    "print(\"name : \" , name )\n",
    "print(\"age : \" , age)"
   ]
  },
  {
   "cell_type": "code",
   "execution_count": 117,
   "id": "080e0506-2c3d-401d-bbfe-c79eb5c4e3df",
   "metadata": {},
   "outputs": [
    {
     "name": "stdout",
     "output_type": "stream",
     "text": [
      "name :  swamini , age :  23\n",
      "\n"
     ]
    }
   ],
   "source": [
    "print(\"name : \" , name ,  ',', \"age : \" , age)\n",
    "print()"
   ]
  },
  {
   "cell_type": "code",
   "execution_count": 109,
   "id": "05140ffc-4f56-4bf7-a919-7c1acd5ed86b",
   "metadata": {},
   "outputs": [
    {
     "name": "stdout",
     "output_type": "stream",
     "text": [
      "name:prajakta    age  : 26i am happy\n"
     ]
    }
   ],
   "source": [
    "print(f'name:{name}' , end  ='    ')     \n",
    "print(f'age  : {age}'  , end  = '')\n",
    "print('i am happy')"
   ]
  },
  {
   "cell_type": "code",
   "execution_count": 121,
   "id": "b6aeb0a5-7add-4cdc-9cdf-308a9effb277",
   "metadata": {},
   "outputs": [
    {
     "name": "stdout",
     "output_type": "stream",
     "text": [
      "name:\"swamini\"  \n",
      "age  : 16  \n",
      "i am happy\n"
     ]
    }
   ],
   "source": [
    "print(f'name:\"swamini\"  ')     \n",
    "print(f'age  : 16  ' )\n",
    "print('i am happy')"
   ]
  },
  {
   "cell_type": "code",
   "execution_count": null,
   "id": "b5ee1be4-1e74-45e3-a238-02d1060741d5",
   "metadata": {},
   "outputs": [],
   "source": [
    "# data Structure \n",
    "-  multiple  values  in single variable\n",
    "- it is predefined structure\n",
    "- list \n",
    "- tuple  \n",
    "- set\n",
    "- dictionary"
   ]
  },
  {
   "cell_type": "code",
   "execution_count": 126,
   "id": "cd18a108-f71a-4ec6-b97b-5c1cc41ad6aa",
   "metadata": {},
   "outputs": [],
   "source": [
    "num  =  34\n",
    "num =3  "
   ]
  },
  {
   "cell_type": "code",
   "execution_count": null,
   "id": "4d55cddf-fbc3-4af6-919b-ddd398080425",
   "metadata": {},
   "outputs": [],
   "source": [
    "# List  \n",
    "-  this  is  one  of the data structure\n",
    "-  list is orderd collection of data\n",
    "-  list  is  mutable\n",
    "-  indexing and  slicing is  posible\n",
    "-  list can contain heterogenous data\n",
    "- symbol  = []"
   ]
  },
  {
   "cell_type": "code",
   "execution_count": 127,
   "id": "cbab3064-8738-433b-8acb-488944cfd9a0",
   "metadata": {},
   "outputs": [
    {
     "data": {
      "text/plain": [
       "list"
      ]
     },
     "execution_count": 127,
     "metadata": {},
     "output_type": "execute_result"
    }
   ],
   "source": [
    "l  = []\n",
    "type(l)"
   ]
  },
  {
   "cell_type": "code",
   "execution_count": 133,
   "id": "3be67ffa-c4ac-4501-89e9-ccfd90edd1de",
   "metadata": {},
   "outputs": [
    {
     "data": {
      "text/plain": [
       "[12, 13]"
      ]
     },
     "execution_count": 133,
     "metadata": {},
     "output_type": "execute_result"
    }
   ],
   "source": [
    "l1  = [12 ,  13]   # list of  integers\n",
    "l1"
   ]
  },
  {
   "cell_type": "code",
   "execution_count": 132,
   "id": "5390b6ef-dc63-44c8-a1d7-fbfc48b8886e",
   "metadata": {},
   "outputs": [
    {
     "data": {
      "text/plain": [
       "[12.34, 1.3]"
      ]
     },
     "execution_count": 132,
     "metadata": {},
     "output_type": "execute_result"
    }
   ],
   "source": [
    "l2  = [12.34 ,  1.3]   # list of  floats\n",
    "l2"
   ]
  },
  {
   "cell_type": "code",
   "execution_count": 130,
   "id": "28b402b3-8793-4546-a733-e000f8a5da4e",
   "metadata": {},
   "outputs": [],
   "source": [
    "l3 = ['hello ' ,  'python ' , 'data']"
   ]
  },
  {
   "cell_type": "code",
   "execution_count": 131,
   "id": "b270e285-08e5-4668-9b6a-6bea238f5ba2",
   "metadata": {},
   "outputs": [
    {
     "data": {
      "text/plain": [
       "['hello ', 'python ', 'data']"
      ]
     },
     "execution_count": 131,
     "metadata": {},
     "output_type": "execute_result"
    }
   ],
   "source": [
    "l3"
   ]
  },
  {
   "cell_type": "code",
   "execution_count": 134,
   "id": "a0f46b02-52eb-4cc1-b24d-7854ced54131",
   "metadata": {},
   "outputs": [
    {
     "name": "stdout",
     "output_type": "stream",
     "text": [
      "<class 'list'> <class 'list'> <class 'list'>\n"
     ]
    }
   ],
   "source": [
    "print(type(l1) , type(l2) ,  type(l3))"
   ]
  },
  {
   "cell_type": "code",
   "execution_count": 135,
   "id": "19c4798e-3a1e-492c-a82c-343d43c5c2d3",
   "metadata": {},
   "outputs": [],
   "source": [
    "l4 = [True  ,  False]    # boolean"
   ]
  },
  {
   "cell_type": "code",
   "execution_count": 136,
   "id": "d87364b3-6549-4f41-8913-60f9a48be608",
   "metadata": {},
   "outputs": [
    {
     "data": {
      "text/plain": [
       "[True, False]"
      ]
     },
     "execution_count": 136,
     "metadata": {},
     "output_type": "execute_result"
    }
   ],
   "source": [
    "l4"
   ]
  },
  {
   "cell_type": "code",
   "execution_count": 138,
   "id": "a9a326b7-23a0-4f3e-aaa9-85ec8a2de3f2",
   "metadata": {},
   "outputs": [
    {
     "data": {
      "text/plain": [
       "list"
      ]
     },
     "execution_count": 138,
     "metadata": {},
     "output_type": "execute_result"
    }
   ],
   "source": [
    "l5  = ['True' , 23  ,  True  , 45.57]   # heterogenous data\n",
    "type(l5)"
   ]
  },
  {
   "cell_type": "code",
   "execution_count": 139,
   "id": "12a98dca-cb75-444f-9f37-74fa136e0258",
   "metadata": {},
   "outputs": [
    {
     "data": {
      "text/plain": [
       "['True', 23, True, 45.57]"
      ]
     },
     "execution_count": 139,
     "metadata": {},
     "output_type": "execute_result"
    }
   ],
   "source": [
    "l5"
   ]
  },
  {
   "cell_type": "code",
   "execution_count": 140,
   "id": "5bd31119-83aa-4dfb-a19f-bde45f2114ad",
   "metadata": {},
   "outputs": [],
   "source": [
    "l6  = [234,46,[True , 56 ,  'Suresh'] , 765,7,6,5]   # nested  list"
   ]
  },
  {
   "cell_type": "code",
   "execution_count": 141,
   "id": "aca0b387-e0a4-44df-9577-284f1544364b",
   "metadata": {},
   "outputs": [
    {
     "data": {
      "text/plain": [
       "[234, 46, [True, 56, 'Suresh'], 765, 7, 6, 5]"
      ]
     },
     "execution_count": 141,
     "metadata": {},
     "output_type": "execute_result"
    }
   ],
   "source": [
    "l6"
   ]
  },
  {
   "cell_type": "code",
   "execution_count": null,
   "id": "9203c3de-7aca-49ca-b460-6bd076d611b5",
   "metadata": {},
   "outputs": [],
   "source": [
    "# positive  - 0 ,  left\n",
    "- negative - -1  , right\n",
    "variable[index]"
   ]
  },
  {
   "cell_type": "code",
   "execution_count": 142,
   "id": "c19e4722-fd5a-4fe4-8dce-0dc0c0eb5b86",
   "metadata": {},
   "outputs": [
    {
     "data": {
      "text/plain": [
       "['True', 23, True, 45.57]"
      ]
     },
     "execution_count": 142,
     "metadata": {},
     "output_type": "execute_result"
    }
   ],
   "source": [
    "l5"
   ]
  },
  {
   "cell_type": "code",
   "execution_count": 143,
   "id": "2041e77c-59c2-462b-a805-661d9f66133c",
   "metadata": {},
   "outputs": [
    {
     "data": {
      "text/plain": [
       "'True'"
      ]
     },
     "execution_count": 143,
     "metadata": {},
     "output_type": "execute_result"
    }
   ],
   "source": [
    "l5[0]"
   ]
  },
  {
   "cell_type": "code",
   "execution_count": 144,
   "id": "c940f5e7-f2ef-4151-af53-7f5c34668191",
   "metadata": {},
   "outputs": [
    {
     "data": {
      "text/plain": [
       "45.57"
      ]
     },
     "execution_count": 144,
     "metadata": {},
     "output_type": "execute_result"
    }
   ],
   "source": [
    "l5[-1]"
   ]
  },
  {
   "cell_type": "code",
   "execution_count": 147,
   "id": "da0befdb-76ce-4889-affd-b75835b60e15",
   "metadata": {},
   "outputs": [
    {
     "data": {
      "text/plain": [
       "45.57"
      ]
     },
     "execution_count": 147,
     "metadata": {},
     "output_type": "execute_result"
    }
   ],
   "source": [
    "l5[3]"
   ]
  },
  {
   "cell_type": "code",
   "execution_count": 148,
   "id": "8261addd-eb81-4e63-868f-123125a0d5f4",
   "metadata": {
    "scrolled": true
   },
   "outputs": [
    {
     "ename": "IndexError",
     "evalue": "list index out of range",
     "output_type": "error",
     "traceback": [
      "\u001b[1;31m---------------------------------------------------------------------------\u001b[0m",
      "\u001b[1;31mIndexError\u001b[0m                                Traceback (most recent call last)",
      "Cell \u001b[1;32mIn[148], line 1\u001b[0m\n\u001b[1;32m----> 1\u001b[0m l5[\u001b[38;5;241m9\u001b[39m]\n",
      "\u001b[1;31mIndexError\u001b[0m: list index out of range"
     ]
    }
   ],
   "source": [
    "l5[9]"
   ]
  },
  {
   "cell_type": "code",
   "execution_count": 149,
   "id": "16a15290-70e1-47cc-b25f-e10be3edc0ec",
   "metadata": {},
   "outputs": [
    {
     "data": {
      "text/plain": [
       "['True', 23, True, 45.57]"
      ]
     },
     "execution_count": 149,
     "metadata": {},
     "output_type": "execute_result"
    }
   ],
   "source": [
    "l5"
   ]
  },
  {
   "cell_type": "code",
   "execution_count": 150,
   "id": "ab5006ba-5b6d-4e58-83a0-69a20083c05a",
   "metadata": {},
   "outputs": [
    {
     "data": {
      "text/plain": [
       "'True'"
      ]
     },
     "execution_count": 150,
     "metadata": {},
     "output_type": "execute_result"
    }
   ],
   "source": [
    "l5[-4]"
   ]
  },
  {
   "cell_type": "code",
   "execution_count": 151,
   "id": "ae712013-c2f6-4a56-8820-5c1993bc5a33",
   "metadata": {},
   "outputs": [
    {
     "ename": "IndexError",
     "evalue": "list index out of range",
     "output_type": "error",
     "traceback": [
      "\u001b[1;31m---------------------------------------------------------------------------\u001b[0m",
      "\u001b[1;31mIndexError\u001b[0m                                Traceback (most recent call last)",
      "Cell \u001b[1;32mIn[151], line 1\u001b[0m\n\u001b[1;32m----> 1\u001b[0m l5[\u001b[38;5;241m-\u001b[39m\u001b[38;5;241m5\u001b[39m]\n",
      "\u001b[1;31mIndexError\u001b[0m: list index out of range"
     ]
    }
   ],
   "source": [
    "l5[-5]"
   ]
  },
  {
   "cell_type": "code",
   "execution_count": 152,
   "id": "25ea4089-4632-4671-bdf9-b22cb342181e",
   "metadata": {},
   "outputs": [
    {
     "data": {
      "text/plain": [
       "[234, 46, [True, 56, 'Suresh'], 765, 7, 6, 5]"
      ]
     },
     "execution_count": 152,
     "metadata": {},
     "output_type": "execute_result"
    }
   ],
   "source": [
    "l6"
   ]
  },
  {
   "cell_type": "code",
   "execution_count": 153,
   "id": "34ab8c07-3a32-4473-81ec-10b19df7486a",
   "metadata": {},
   "outputs": [
    {
     "data": {
      "text/plain": [
       "[True, 56, 'Suresh']"
      ]
     },
     "execution_count": 153,
     "metadata": {},
     "output_type": "execute_result"
    }
   ],
   "source": [
    "l6[2]"
   ]
  },
  {
   "cell_type": "code",
   "execution_count": 154,
   "id": "fa8f7e3c-55c7-4d76-8ed7-eded49efb982",
   "metadata": {},
   "outputs": [
    {
     "data": {
      "text/plain": [
       "True"
      ]
     },
     "execution_count": 154,
     "metadata": {},
     "output_type": "execute_result"
    }
   ],
   "source": [
    "\n",
    "l6[2][0]"
   ]
  },
  {
   "cell_type": "code",
   "execution_count": 155,
   "id": "d9266b3b-5d1f-4eaa-a327-f622d28e534e",
   "metadata": {},
   "outputs": [
    {
     "data": {
      "text/plain": [
       "True"
      ]
     },
     "execution_count": 155,
     "metadata": {},
     "output_type": "execute_result"
    }
   ],
   "source": [
    "l6[-5][-3]"
   ]
  },
  {
   "cell_type": "code",
   "execution_count": 191,
   "id": "d86480e0-fdba-47a2-ab20-7e022487c9fa",
   "metadata": {},
   "outputs": [
    {
     "data": {
      "text/plain": [
       "5.6"
      ]
     },
     "execution_count": 191,
     "metadata": {},
     "output_type": "execute_result"
    }
   ],
   "source": [
    "l7 = [234, 46, [True,[ 56,45 ,5.6] ,  'Suresh'], 765, 7, 6, 5]\n",
    "# extract 5.6\n",
    "l7[2][1][-1]"
   ]
  },
  {
   "cell_type": "code",
   "execution_count": 198,
   "id": "96dcd888-c5c5-474a-b624-5a1fcdc43867",
   "metadata": {},
   "outputs": [
    {
     "data": {
      "text/plain": [
       "[56, 45]"
      ]
     },
     "execution_count": 198,
     "metadata": {},
     "output_type": "execute_result"
    }
   ],
   "source": [
    "l7[2][1][0:2]"
   ]
  },
  {
   "cell_type": "code",
   "execution_count": 160,
   "id": "2be59c12-2c73-458d-bdca-1d35e3e80054",
   "metadata": {},
   "outputs": [],
   "source": [
    "# slicing\n",
    "variable[start :  end  :step]"
   ]
  },
  {
   "cell_type": "code",
   "execution_count": 162,
   "id": "8714f892-b7f6-4a83-be4e-a9e6608a92e0",
   "metadata": {},
   "outputs": [
    {
     "data": {
      "text/plain": [
       "['True', 23]"
      ]
     },
     "execution_count": 162,
     "metadata": {},
     "output_type": "execute_result"
    }
   ],
   "source": [
    "l5[0:2]"
   ]
  },
  {
   "cell_type": "code",
   "execution_count": 163,
   "id": "11e9a60a-2410-46a3-af67-3ace0fd314f2",
   "metadata": {},
   "outputs": [
    {
     "data": {
      "text/plain": [
       "['True', 23]"
      ]
     },
     "execution_count": 163,
     "metadata": {},
     "output_type": "execute_result"
    }
   ],
   "source": [
    "l5[:2]"
   ]
  },
  {
   "cell_type": "code",
   "execution_count": 164,
   "id": "4dd1e928-8822-4d7e-aac0-9fe26bc0248c",
   "metadata": {},
   "outputs": [
    {
     "data": {
      "text/plain": [
       "['True', 23, True, 45.57]"
      ]
     },
     "execution_count": 164,
     "metadata": {},
     "output_type": "execute_result"
    }
   ],
   "source": [
    "l5"
   ]
  },
  {
   "cell_type": "code",
   "execution_count": 165,
   "id": "c4059846-f805-4ed5-92f1-1ca8bd62f7f5",
   "metadata": {},
   "outputs": [
    {
     "data": {
      "text/plain": [
       "['True', 23, True, 45.57]"
      ]
     },
     "execution_count": 165,
     "metadata": {},
     "output_type": "execute_result"
    }
   ],
   "source": [
    "l5[0:5:1]"
   ]
  },
  {
   "cell_type": "code",
   "execution_count": 166,
   "id": "a4536818-4a8f-4aca-ac83-e28518c63923",
   "metadata": {},
   "outputs": [
    {
     "data": {
      "text/plain": [
       "['True', 23, True, 45.57]"
      ]
     },
     "execution_count": 166,
     "metadata": {},
     "output_type": "execute_result"
    }
   ],
   "source": [
    "l5[::]"
   ]
  },
  {
   "cell_type": "code",
   "execution_count": 167,
   "id": "eaec547c-5bce-41ab-b500-1854c05d9979",
   "metadata": {},
   "outputs": [
    {
     "data": {
      "text/plain": [
       "['True', 23, True, 45.57]"
      ]
     },
     "execution_count": 167,
     "metadata": {},
     "output_type": "execute_result"
    }
   ],
   "source": [
    "l5[::1]"
   ]
  },
  {
   "cell_type": "code",
   "execution_count": 168,
   "id": "21a5512d-ae45-418d-8bb9-49debffecb25",
   "metadata": {},
   "outputs": [
    {
     "data": {
      "text/plain": [
       "[45.57, True, 23, 'True']"
      ]
     },
     "execution_count": 168,
     "metadata": {},
     "output_type": "execute_result"
    }
   ],
   "source": [
    "# reversed the list\n",
    "l5[::-1]"
   ]
  },
  {
   "cell_type": "code",
   "execution_count": 169,
   "id": "8c16aeae-a573-4ebc-8cf8-0f0bfe42dbbd",
   "metadata": {},
   "outputs": [
    {
     "data": {
      "text/plain": [
       "[45.57]"
      ]
     },
     "execution_count": 169,
     "metadata": {},
     "output_type": "execute_result"
    }
   ],
   "source": [
    "l5[3:45]"
   ]
  },
  {
   "cell_type": "code",
   "execution_count": 170,
   "id": "8dd61dc6-7b1b-4ebf-858e-3774969e1044",
   "metadata": {
    "scrolled": true
   },
   "outputs": [
    {
     "data": {
      "text/plain": [
       "['True', 23, True, 45.57]"
      ]
     },
     "execution_count": 170,
     "metadata": {},
     "output_type": "execute_result"
    }
   ],
   "source": [
    "l5[0:45]"
   ]
  },
  {
   "cell_type": "code",
   "execution_count": null,
   "id": "b551f5b7-3fba-4309-84ae-27fc6e347134",
   "metadata": {},
   "outputs": [],
   "source": []
  },
  {
   "cell_type": "code",
   "execution_count": 171,
   "id": "1f14eaec-ee00-45d3-802f-02afee630e97",
   "metadata": {},
   "outputs": [
    {
     "data": {
      "text/plain": [
       "['True', 23, True]"
      ]
     },
     "execution_count": 171,
     "metadata": {},
     "output_type": "execute_result"
    }
   ],
   "source": [
    "l5[-5:-1]"
   ]
  },
  {
   "cell_type": "code",
   "execution_count": 173,
   "id": "0f70ea51-368d-4abb-9563-3cd6dce58cb7",
   "metadata": {},
   "outputs": [],
   "source": [
    "l6  = [234, 46, True, 56, 'Suresh', 765, 7, 6, 5]"
   ]
  },
  {
   "cell_type": "code",
   "execution_count": 174,
   "id": "7ca51a71-1bc1-4b2b-9c35-d5555899112a",
   "metadata": {},
   "outputs": [
    {
     "data": {
      "text/plain": [
       "[]"
      ]
     },
     "execution_count": 174,
     "metadata": {},
     "output_type": "execute_result"
    }
   ],
   "source": [
    "l6[-1:-5]"
   ]
  },
  {
   "cell_type": "code",
   "execution_count": 175,
   "id": "63b8c696-8e94-4bdb-9ffd-a4ea721761c8",
   "metadata": {},
   "outputs": [
    {
     "data": {
      "text/plain": [
       "[]"
      ]
     },
     "execution_count": 175,
     "metadata": {},
     "output_type": "execute_result"
    }
   ],
   "source": [
    "l6[6:1]"
   ]
  },
  {
   "cell_type": "code",
   "execution_count": 176,
   "id": "dbc2d108-c523-48d4-b170-69ca720abe31",
   "metadata": {
    "scrolled": true
   },
   "outputs": [
    {
     "data": {
      "text/plain": [
       "[5, 6, 7, 765]"
      ]
     },
     "execution_count": 176,
     "metadata": {},
     "output_type": "execute_result"
    }
   ],
   "source": [
    "l6[-1:-5:-1]"
   ]
  },
  {
   "cell_type": "code",
   "execution_count": 177,
   "id": "2d884d2f-195a-4ce5-8349-391588209098",
   "metadata": {
    "jupyter": {
     "source_hidden": true
    }
   },
   "outputs": [
    {
     "data": {
      "text/plain": [
       "[234, 46, True, 56, 'Suresh', 765, 7, 6, 5]"
      ]
     },
     "execution_count": 177,
     "metadata": {},
     "output_type": "execute_result"
    }
   ],
   "source": [
    "l6"
   ]
  },
  {
   "cell_type": "code",
   "execution_count": 178,
   "id": "d8cf9864-9715-4593-bca9-565a4fb1174f",
   "metadata": {},
   "outputs": [
    {
     "data": {
      "text/plain": [
       "[234, True, 'Suresh', 7, 5]"
      ]
     },
     "execution_count": 178,
     "metadata": {},
     "output_type": "execute_result"
    }
   ],
   "source": [
    "l6[::2]"
   ]
  },
  {
   "cell_type": "code",
   "execution_count": 179,
   "id": "48bd19af-cbbc-4592-af3f-093f32c28c09",
   "metadata": {},
   "outputs": [
    {
     "data": {
      "text/plain": [
       "[5, 7, 'Suresh', True, 234]"
      ]
     },
     "execution_count": 179,
     "metadata": {},
     "output_type": "execute_result"
    }
   ],
   "source": [
    "l6[::-2]"
   ]
  },
  {
   "cell_type": "code",
   "execution_count": null,
   "id": "3b6ad42d-b4dc-4aaa-9609-d5f53a9a2ae4",
   "metadata": {},
   "outputs": [],
   "source": [
    "# mutability  - add  , delete ,  update"
   ]
  },
  {
   "cell_type": "code",
   "execution_count": 180,
   "id": "8a751ef2-0ba6-4d3c-b9f3-3e07e4058d9e",
   "metadata": {},
   "outputs": [
    {
     "data": {
      "text/plain": [
       "[234, 46, True, 56, 'Suresh', 765, 7, 6, 5]"
      ]
     },
     "execution_count": 180,
     "metadata": {},
     "output_type": "execute_result"
    }
   ],
   "source": [
    "l6"
   ]
  },
  {
   "cell_type": "code",
   "execution_count": null,
   "id": "62e10b13-d12e-47bc-9108-ab3c4badbd47",
   "metadata": {},
   "outputs": [],
   "source": [
    "# add  -  sunita\n",
    "-  append   # for adding single  obsn\n",
    "- extend\n",
    "-  insert"
   ]
  },
  {
   "cell_type": "code",
   "execution_count": 181,
   "id": "a38312bd-a6c0-421f-a2cb-905325b37f49",
   "metadata": {},
   "outputs": [],
   "source": [
    "l6.append('sunita') # end  positon\n",
    "\n",
    "   "
   ]
  },
  {
   "cell_type": "code",
   "execution_count": 182,
   "id": "5eecbd13-5f63-4ea1-980c-f94145d0f26b",
   "metadata": {},
   "outputs": [
    {
     "data": {
      "text/plain": [
       "[234, 46, True, 56, 'Suresh', 765, 7, 6, 5, 'sunita']"
      ]
     },
     "execution_count": 182,
     "metadata": {},
     "output_type": "execute_result"
    }
   ],
   "source": [
    "l6"
   ]
  },
  {
   "cell_type": "code",
   "execution_count": 183,
   "id": "b8782f81-4a2e-43f5-a456-fe6d043c8157",
   "metadata": {},
   "outputs": [],
   "source": [
    "# ['neeta' ,  'nisha'] \n",
    "l6.append(['neeta' ,  'nisha'] )"
   ]
  },
  {
   "cell_type": "code",
   "execution_count": 184,
   "id": "de7b0afb-6a15-40af-97fe-50e3f493d71f",
   "metadata": {},
   "outputs": [
    {
     "data": {
      "text/plain": [
       "[234, 46, True, 56, 'Suresh', 765, 7, 6, 5, 'sunita', ['neeta', 'nisha']]"
      ]
     },
     "execution_count": 184,
     "metadata": {},
     "output_type": "execute_result"
    }
   ],
   "source": [
    "l6"
   ]
  },
  {
   "cell_type": "code",
   "execution_count": 185,
   "id": "215b194f-f55c-434d-8d18-573a521141b8",
   "metadata": {},
   "outputs": [],
   "source": [
    "# for  adding  multiple  obsn\n",
    "l6.extend(['neeta' ,  'nisha'] )"
   ]
  },
  {
   "cell_type": "code",
   "execution_count": 187,
   "id": "bcc1c61a-fffa-4d48-ac40-45409ba2aa89",
   "metadata": {},
   "outputs": [
    {
     "name": "stdout",
     "output_type": "stream",
     "text": [
      "[234, 46, True, 56, 'Suresh', 765, 7, 6, 5, 'sunita', ['neeta', 'nisha'], 'neeta', 'nisha']\n"
     ]
    }
   ],
   "source": [
    "print(l6)"
   ]
  },
  {
   "cell_type": "code",
   "execution_count": 188,
   "id": "5061a54d-157a-4c56-8165-d011c680b78e",
   "metadata": {},
   "outputs": [],
   "source": [
    "# to add at specific position\n",
    "# add  300  at 3 rd index\n",
    "l6.insert(3 , 300)"
   ]
  },
  {
   "cell_type": "code",
   "execution_count": 190,
   "id": "4ccbbe94-2592-40ab-a23b-1c15ead825b0",
   "metadata": {},
   "outputs": [
    {
     "name": "stdout",
     "output_type": "stream",
     "text": [
      "[234, 46, True, 300, 56, 'Suresh', 765, 7, 6, 5, 'sunita', ['neeta', 'nisha'], 'neeta', 'nisha']\n"
     ]
    }
   ],
   "source": [
    "print(l6)"
   ]
  },
  {
   "cell_type": "code",
   "execution_count": null,
   "id": "d9ced944-c1c2-40bf-8c18-0128b297f0ad",
   "metadata": {},
   "outputs": [],
   "source": []
  }
 ],
 "metadata": {
  "kernelspec": {
   "display_name": "Python 3 (ipykernel)",
   "language": "python",
   "name": "python3"
  },
  "language_info": {
   "codemirror_mode": {
    "name": "ipython",
    "version": 3
   },
   "file_extension": ".py",
   "mimetype": "text/x-python",
   "name": "python",
   "nbconvert_exporter": "python",
   "pygments_lexer": "ipython3",
   "version": "3.13.5"
  }
 },
 "nbformat": 4,
 "nbformat_minor": 5
}
